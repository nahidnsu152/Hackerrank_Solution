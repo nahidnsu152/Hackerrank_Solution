{
 "cells": [
  {
   "cell_type": "code",
   "execution_count": 10,
   "metadata": {},
   "outputs": [
    {
     "name": "stdout",
     "output_type": "stream",
     "text": [
      "1 2 3 4 5\n",
      "10 14\n"
     ]
    }
   ],
   "source": [
    "#!/bin/python3\n",
    "\n",
    "import math\n",
    "import os\n",
    "import random\n",
    "import re\n",
    "import sys\n",
    "\n",
    "# Complete the miniMaxSum function below.\n",
    "def miniMaxSum(arr):\n",
    "    result = 0\n",
    "    for i in range(len(arr)):\n",
    "        result += arr[i]\n",
    "    print(result - max(arr), result-min(arr))\n",
    "\n",
    "if __name__ == '__main__':\n",
    "    arr = list(map(int, input().rstrip().split()))\n",
    "\n",
    "    miniMaxSum(arr)\n"
   ]
  }
 ],
 "metadata": {
  "kernelspec": {
   "display_name": "Python 3",
   "language": "python",
   "name": "python3"
  },
  "language_info": {
   "codemirror_mode": {
    "name": "ipython",
    "version": 3
   },
   "file_extension": ".py",
   "mimetype": "text/x-python",
   "name": "python",
   "nbconvert_exporter": "python",
   "pygments_lexer": "ipython3",
   "version": "3.7.4"
  }
 },
 "nbformat": 4,
 "nbformat_minor": 2
}
