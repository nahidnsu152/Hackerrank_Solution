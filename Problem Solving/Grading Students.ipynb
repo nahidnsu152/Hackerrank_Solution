{
 "cells": [
  {
   "cell_type": "code",
   "execution_count": null,
   "metadata": {},
   "outputs": [],
   "source": [
    "#!/bin/python3\n",
    "\n",
    "import os\n",
    "import sys\n",
    "\n",
    "def gradingStudents(grades):\n",
    "    for i in range(len(grades)):\n",
    "        if(grades[i]>37):\n",
    "            if((grades[i]%5)!=0):\n",
    "                if(5-(grades[i]%5)<3):\n",
    "                    grades[i]+=5-(grades[i]%5)\n",
    "    return (grades)\n",
    "\n",
    "if __name__ == '__main__':\n",
    "    f = open(os.environ['OUTPUT_PATH'], 'w')\n",
    "\n",
    "    n = int(input())\n",
    "\n",
    "    grades = []\n",
    "\n",
    "    for _ in range(n):\n",
    "        grades_item = int(input())\n",
    "        grades.append(grades_item)\n",
    "\n",
    "    result = gradingStudents(grades)\n",
    "\n",
    "    f.write('\\n'.join(map(str, result)))\n",
    "    f.write('\\n')\n",
    "\n",
    "    f.close()"
   ]
  }
 ],
 "metadata": {
  "kernelspec": {
   "display_name": "Python 3",
   "language": "python",
   "name": "python3"
  },
  "language_info": {
   "codemirror_mode": {
    "name": "ipython",
    "version": 3
   },
   "file_extension": ".py",
   "mimetype": "text/x-python",
   "name": "python",
   "nbconvert_exporter": "python",
   "pygments_lexer": "ipython3",
   "version": "3.7.4"
  }
 },
 "nbformat": 4,
 "nbformat_minor": 2
}
