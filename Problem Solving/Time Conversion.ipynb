{
 "cells": [
  {
   "cell_type": "code",
   "execution_count": null,
   "metadata": {},
   "outputs": [],
   "source": [
    "#!/bin/python3\n",
    "\n",
    "import os\n",
    "import sys\n",
    "\n",
    "#\n",
    "# Complete the timeConversion function below.\n",
    "#\n",
    "def timeConversion(s):\n",
    "    if s[:-2] == \"AM\" and s[:-2] == 12:\n",
    "        return \"00\" + str1[2:-2] \n",
    "    elif s[:-2] == \"AM\":\n",
    "        return s[:-2]\n",
    "    elif s[:-2] == \"PM\" and s[:-2] == 12:\n",
    "        return s[:-2]\n",
    "    else:\n",
    "        return str(int(s[:2]) + 12) + s[2:8]\n",
    "    \n",
    "    \n",
    "\n",
    "if __name__ == '__main__':\n",
    "    f = open(os.environ['OUTPUT_PATH'], 'w')\n",
    "\n",
    "    s = input()\n",
    "\n",
    "    result = timeConversion(s)\n",
    "\n",
    "    f.write(result + '\\n')\n",
    "\n",
    "    f.close()\n"
   ]
  },
  {
   "cell_type": "code",
   "execution_count": null,
   "metadata": {},
   "outputs": [],
   "source": [
    "#!/bin/python3\n",
    "\n",
    "import os\n",
    "import sys\n",
    "import datetime\n",
    "#\n",
    "# Complete the timeConversion function below.\n",
    "#\n",
    "def timeConversion(s):\n",
    "    myDateTime = datetime.datetime.strptime(s, '%I:%M:%S%p')\n",
    "    return myDateTime.strftime(\"%H:%M:%S\")\n",
    "    \n",
    "\n",
    "if __name__ == '__main__':\n",
    "    f = open(os.environ['OUTPUT_PATH'], 'w')\n",
    "\n",
    "    s = input()\n",
    "\n",
    "    result = timeConversion(s)\n",
    "\n",
    "    f.write(result + '\\n')\n",
    "\n",
    "    f.close()\n"
   ]
  }
 ],
 "metadata": {
  "kernelspec": {
   "display_name": "Python 3",
   "language": "python",
   "name": "python3"
  },
  "language_info": {
   "codemirror_mode": {
    "name": "ipython",
    "version": 3
   },
   "file_extension": ".py",
   "mimetype": "text/x-python",
   "name": "python",
   "nbconvert_exporter": "python",
   "pygments_lexer": "ipython3",
   "version": "3.7.4"
  }
 },
 "nbformat": 4,
 "nbformat_minor": 2
}
